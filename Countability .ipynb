{
 "cells": [
  {
   "cell_type": "code",
   "execution_count": null,
   "metadata": {},
   "outputs": [],
   "source": [
    "import pandas as pd \n",
    "import numpy as np \n",
    "import matplotlib.pyplot as plt\n",
    "from sklearn.svm import SVC\n",
    "from sklearn.ensemble import RandomForestClassifier\n",
    "from sklearn.linear_model import SGDClassifier\n",
    "from sklearn.neighbors import KNeighborsClassifier\n",
    "from sklearn.naive_bayes import GaussianNB\n",
    "from sklearn.decomposition import PCA\n",
    "from xgboost import XGBClassifier\n",
    "from sklearn.preprocessing import LabelEncoder, MinMaxScaler\n",
    "from sklearn.metrics import confusion_matrix, precision_score, recall_score, f1_score\n",
    "import time\n",
    "import warnings\n",
    "warnings.filterwarnings(\"ignore\", category=DeprecationWarning)"
   ]
  },
  {
   "cell_type": "code",
   "execution_count": 3,
   "metadata": {},
   "outputs": [
    {
     "data": {
      "text/html": [
       "<div>\n",
       "<style scoped>\n",
       "    .dataframe tbody tr th:only-of-type {\n",
       "        vertical-align: middle;\n",
       "    }\n",
       "\n",
       "    .dataframe tbody tr th {\n",
       "        vertical-align: top;\n",
       "    }\n",
       "\n",
       "    .dataframe thead th {\n",
       "        text-align: right;\n",
       "    }\n",
       "</style>\n",
       "<table border=\"1\" class=\"dataframe\">\n",
       "  <thead>\n",
       "    <tr style=\"text-align: right;\">\n",
       "      <th></th>\n",
       "      <th>Unnamed: 0</th>\n",
       "      <th>Noun</th>\n",
       "      <th>Noun.Count</th>\n",
       "      <th>NN.Count</th>\n",
       "      <th>NN.Percentage</th>\n",
       "      <th>NNS.Count</th>\n",
       "      <th>NNS.Percentage</th>\n",
       "      <th>NNP.Count</th>\n",
       "      <th>NNP.Percentage</th>\n",
       "      <th>NNPS.Count</th>\n",
       "      <th>...</th>\n",
       "      <th>Unique.Modified.Appositive.Count</th>\n",
       "      <th>Modal.Count</th>\n",
       "      <th>Modal.Percentage</th>\n",
       "      <th>Conditional.Count</th>\n",
       "      <th>Conditional.Percentage</th>\n",
       "      <th>WordNet.Senses</th>\n",
       "      <th>Celex.Countable</th>\n",
       "      <th>Celex.Uncountable</th>\n",
       "      <th>Celex.Singularia.Tantum</th>\n",
       "      <th>Celex.Pluralia.Tantum</th>\n",
       "    </tr>\n",
       "  </thead>\n",
       "  <tbody>\n",
       "    <tr>\n",
       "      <th>0</th>\n",
       "      <td>1</td>\n",
       "      <td>abc</td>\n",
       "      <td>3542</td>\n",
       "      <td>17</td>\n",
       "      <td>0.005</td>\n",
       "      <td>100</td>\n",
       "      <td>0.028</td>\n",
       "      <td>3425</td>\n",
       "      <td>0.967</td>\n",
       "      <td>0</td>\n",
       "      <td>...</td>\n",
       "      <td>59</td>\n",
       "      <td>66</td>\n",
       "      <td>0.019</td>\n",
       "      <td>74</td>\n",
       "      <td>0.021</td>\n",
       "      <td>1</td>\n",
       "      <td>1</td>\n",
       "      <td>Y</td>\n",
       "      <td>N</td>\n",
       "      <td>N</td>\n",
       "    </tr>\n",
       "    <tr>\n",
       "      <th>1</th>\n",
       "      <td>2</td>\n",
       "      <td>abyss</td>\n",
       "      <td>616</td>\n",
       "      <td>556</td>\n",
       "      <td>0.903</td>\n",
       "      <td>23</td>\n",
       "      <td>0.037</td>\n",
       "      <td>37</td>\n",
       "      <td>0.060</td>\n",
       "      <td>0</td>\n",
       "      <td>...</td>\n",
       "      <td>14</td>\n",
       "      <td>9</td>\n",
       "      <td>0.015</td>\n",
       "      <td>12</td>\n",
       "      <td>0.019</td>\n",
       "      <td>1</td>\n",
       "      <td>1</td>\n",
       "      <td>N</td>\n",
       "      <td>N</td>\n",
       "      <td>N</td>\n",
       "    </tr>\n",
       "    <tr>\n",
       "      <th>2</th>\n",
       "      <td>3</td>\n",
       "      <td>academic</td>\n",
       "      <td>3449</td>\n",
       "      <td>2</td>\n",
       "      <td>0.001</td>\n",
       "      <td>1945</td>\n",
       "      <td>0.564</td>\n",
       "      <td>1500</td>\n",
       "      <td>0.435</td>\n",
       "      <td>2</td>\n",
       "      <td>...</td>\n",
       "      <td>49</td>\n",
       "      <td>73</td>\n",
       "      <td>0.021</td>\n",
       "      <td>117</td>\n",
       "      <td>0.034</td>\n",
       "      <td>1</td>\n",
       "      <td>1</td>\n",
       "      <td>N</td>\n",
       "      <td>N</td>\n",
       "      <td>N</td>\n",
       "    </tr>\n",
       "    <tr>\n",
       "      <th>3</th>\n",
       "      <td>4</td>\n",
       "      <td>accountant</td>\n",
       "      <td>1478</td>\n",
       "      <td>834</td>\n",
       "      <td>0.564</td>\n",
       "      <td>624</td>\n",
       "      <td>0.422</td>\n",
       "      <td>20</td>\n",
       "      <td>0.014</td>\n",
       "      <td>0</td>\n",
       "      <td>...</td>\n",
       "      <td>46</td>\n",
       "      <td>58</td>\n",
       "      <td>0.039</td>\n",
       "      <td>69</td>\n",
       "      <td>0.047</td>\n",
       "      <td>1</td>\n",
       "      <td>1</td>\n",
       "      <td>N</td>\n",
       "      <td>N</td>\n",
       "      <td>N</td>\n",
       "    </tr>\n",
       "    <tr>\n",
       "      <th>4</th>\n",
       "      <td>5</td>\n",
       "      <td>ache</td>\n",
       "      <td>1053</td>\n",
       "      <td>642</td>\n",
       "      <td>0.610</td>\n",
       "      <td>375</td>\n",
       "      <td>0.356</td>\n",
       "      <td>36</td>\n",
       "      <td>0.034</td>\n",
       "      <td>0</td>\n",
       "      <td>...</td>\n",
       "      <td>25</td>\n",
       "      <td>44</td>\n",
       "      <td>0.042</td>\n",
       "      <td>36</td>\n",
       "      <td>0.034</td>\n",
       "      <td>1</td>\n",
       "      <td>1</td>\n",
       "      <td>N</td>\n",
       "      <td>N</td>\n",
       "      <td>N</td>\n",
       "    </tr>\n",
       "  </tbody>\n",
       "</table>\n",
       "<p>5 rows × 118 columns</p>\n",
       "</div>"
      ],
      "text/plain": [
       "   Unnamed: 0        Noun  Noun.Count  NN.Count  NN.Percentage  NNS.Count  \\\n",
       "0           1         abc        3542        17          0.005        100   \n",
       "1           2       abyss         616       556          0.903         23   \n",
       "2           3    academic        3449         2          0.001       1945   \n",
       "3           4  accountant        1478       834          0.564        624   \n",
       "4           5        ache        1053       642          0.610        375   \n",
       "\n",
       "   NNS.Percentage  NNP.Count  NNP.Percentage  NNPS.Count  \\\n",
       "0           0.028       3425           0.967           0   \n",
       "1           0.037         37           0.060           0   \n",
       "2           0.564       1500           0.435           2   \n",
       "3           0.422         20           0.014           0   \n",
       "4           0.356         36           0.034           0   \n",
       "\n",
       "           ...            Unique.Modified.Appositive.Count  Modal.Count  \\\n",
       "0          ...                                          59           66   \n",
       "1          ...                                          14            9   \n",
       "2          ...                                          49           73   \n",
       "3          ...                                          46           58   \n",
       "4          ...                                          25           44   \n",
       "\n",
       "   Modal.Percentage  Conditional.Count  Conditional.Percentage  \\\n",
       "0             0.019                 74                   0.021   \n",
       "1             0.015                 12                   0.019   \n",
       "2             0.021                117                   0.034   \n",
       "3             0.039                 69                   0.047   \n",
       "4             0.042                 36                   0.034   \n",
       "\n",
       "   WordNet.Senses  Celex.Countable  Celex.Uncountable  \\\n",
       "0               1                1                  Y   \n",
       "1               1                1                  N   \n",
       "2               1                1                  N   \n",
       "3               1                1                  N   \n",
       "4               1                1                  N   \n",
       "\n",
       "   Celex.Singularia.Tantum  Celex.Pluralia.Tantum  \n",
       "0                        N                      N  \n",
       "1                        N                      N  \n",
       "2                        N                      N  \n",
       "3                        N                      N  \n",
       "4                        N                      N  \n",
       "\n",
       "[5 rows x 118 columns]"
      ]
     },
     "execution_count": 3,
     "metadata": {},
     "output_type": "execute_result"
    }
   ],
   "source": [
    "#Create a panda dataset and read csv \n",
    "data = pd.read_csv(\"project4.csv\")\n",
    "\n",
    "#Changes the column 114 where 'Y' = 1.0 and 'N' = 0.0 \n",
    "for x in range (0, 1677):\n",
    "    y = data.iloc[x, 114]\n",
    "    if y == \"Y\": \n",
    "        data.iloc[x, 114] = 1\n",
    "    elif y == \"N\":\n",
    "        data.iloc[x, 114] = 0\n",
    "\n",
    "#Just to check that it's the correct dataset \n",
    "data.head()"
   ]
  },
  {
   "cell_type": "code",
   "execution_count": 4,
   "metadata": {},
   "outputs": [
    {
     "name": "stdout",
     "output_type": "stream",
     "text": [
      "[[3.542e+03 1.700e+01 5.000e-03 ... 7.400e+01 2.100e-02 1.000e+00]\n",
      " [6.160e+02 5.560e+02 9.030e-01 ... 1.200e+01 1.900e-02 1.000e+00]\n",
      " [3.449e+03 2.000e+00 1.000e-03 ... 1.170e+02 3.400e-02 1.000e+00]\n",
      " ...\n",
      " [8.480e+02 5.390e+02 6.360e-01 ... 3.000e+01 3.500e-02 1.000e+00]\n",
      " [6.170e+02 4.910e+02 7.960e-01 ... 3.500e+01 5.700e-02 1.000e+00]\n",
      " [2.203e+03 1.458e+03 6.620e-01 ... 6.000e+01 2.700e-02 1.000e+00]]\n",
      "[1. 1. 1. ... 1. 0. 1.]\n"
     ]
    }
   ],
   "source": [
    "#Converting the DataFrame into NumPy array \n",
    "array = data.values\n",
    "\n",
    "#Testing to see what the numpy array looks like \n",
    "#print(array)\n",
    "\n",
    "#Grab all the input data present\n",
    "X = array[:, 2:114]\n",
    "#Countable cervex dataset \n",
    "Y = array [:, 114]\n",
    "\n",
    "X = X.astype(float)\n",
    "Y = Y.astype(float)\n",
    "print(X)\n",
    "print(Y)"
   ]
  },
  {
   "cell_type": "code",
   "execution_count": 5,
   "metadata": {},
   "outputs": [],
   "source": [
    "#Import libraries for SelectKBest algorithm class \n",
    "from sklearn.feature_selection import SelectKBest \n",
    "from sklearn.feature_selection import chi2 "
   ]
  },
  {
   "cell_type": "code",
   "execution_count": 7,
   "metadata": {},
   "outputs": [
    {
     "name": "stdout",
     "output_type": "stream",
     "text": [
      "[6.1632e+04 8.1210e+04 5.8794e-02 3.0826e+05 1.0065e+02 1.7201e+05\n",
      " 8.5698e+01 7.8612e+03 2.5609e+00 3.8828e+05 1.2651e+02 7.0947e+01\n",
      " 2.8070e+01 2.2479e+05 7.0594e+01 1.0428e+05 1.1032e+02 2.0622e+05\n",
      " 3.6126e+01 1.0582e+03 2.2308e-01 2.0857e+05 5.2883e+01 2.6130e+03\n",
      " 9.8542e+04 2.1816e+01 9.2314e+04 8.0613e+00 1.1459e+04 5.2091e-01\n",
      " 5.4713e+03 3.8330e-01 4.2720e+03 3.4982e+00 7.3774e+04 1.3124e+01\n",
      " 2.6974e+04 3.0253e-02 2.8924e-02 2.8420e-01 4.2921e-02 2.9904e-01\n",
      " 6.7549e-03 1.9198e-01 9.2726e-01 2.5805e-01 1.3351e+00 5.7751e-03\n",
      " 6.5903e-02 4.3948e-04 8.1188e+04 7.2381e+00 9.4118e+03 3.1049e-01\n",
      " 2.2523e+04 1.6116e-01 7.4822e+03 4.3457e-02 1.1286e+04 1.0809e-02\n",
      " 2.1348e+04 3.5319e+00 3.5429e+03 4.9423e+00 2.1348e+04 3.5319e+00\n",
      " 3.5429e+03 4.9423e+00 3.0506e+04 1.1698e-01 3.7471e+03 3.2281e+04\n",
      " 2.0565e-01 4.0981e+03 1.5628e+03 1.3234e-01 4.3684e+04 3.2663e-01\n",
      " 4.4804e+04 3.7087e+00 1.8858e+04 1.9878e+04 2.8737e-02 5.6978e+03\n",
      " 1.1519e+03 7.9316e-01 2.1170e+03 1.4236e+04 4.6358e+00 1.2884e+04\n",
      " 5.9890e+04 9.3287e+00 6.9108e+03 8.7149e+02 8.5451e-01 4.9464e+04\n",
      " 4.5305e+00 7.1544e+03 5.2775e-01 8.7510e+03 2.9633e-01 3.3611e+03\n",
      " 1.5712e-01 4.3515e+03 5.1214e+03 1.0570e-01 3.2063e+03 7.0311e+03\n",
      " 6.9564e-01 8.7327e+03 8.7039e-01 3.2121e+00]\n"
     ]
    },
    {
     "data": {
      "text/plain": [
       "array([[ 100., 3425.,  100., ...,  144.,   16.,  124.],\n",
       "       [  23.,   37.,   21., ...,  550.,  140.,  385.],\n",
       "       [1945., 1500., 1945., ...,  212.,   72.,  102.],\n",
       "       ...,\n",
       "       [ 185.,  124.,  185., ...,  379.,   93.,  275.],\n",
       "       [   8.,  118.,    8., ...,   48.,    8.,   35.],\n",
       "       [ 327.,  418.,  327., ..., 1248.,  240.,  973.]])"
      ]
     },
     "execution_count": 7,
     "metadata": {},
     "output_type": "execute_result"
    }
   ],
   "source": [
    "#Use chi-squared to determine what the k best scores are \n",
    "\n",
    "#Grab the 10 best features \n",
    "test = SelectKBest(score_func=chi2, k=9)\n",
    "fit = test.fit(X,Y)\n",
    "\n",
    "#Get to four decimal places within the chi square calculations \n",
    "np.set_printoptions(precision=4)\n",
    "print(fit.scores_)\n",
    "\n",
    "#Learns the model parameters and standardizes the distribution \n",
    "features = fit.transform(X)\n",
    "features"
   ]
  },
  {
   "cell_type": "code",
   "execution_count": 8,
   "metadata": {},
   "outputs": [
    {
     "name": "stdout",
     "output_type": "stream",
     "text": [
      "[(9, 388276.7848490826), (3, 308255.287610543), (13, 224789.08411086266), (21, 208573.30117616494), (17, 206222.22555960756), (5, 172006.1364676755), (15, 104280.4594976329), (24, 98542.11492132404), (26, 92314.26325956087), (1, 81209.72298823157), (50, 81187.88080280034), (34, 73774.23641939106), (0, 61631.60087016732), (90, 59890.00282743732), (95, 49463.94303267615), (78, 44804.43336270572), (76, 43684.19435749347), (71, 32280.826728164742), (68, 30505.899926517115), (36, 26973.735597209674), (54, 22523.16462769402), (60, 21348.190273894805), (64, 21348.190273894805), (81, 19878.075091515988), (80, 18857.662257278218), (87, 14236.17011963519), (89, 12884.185679779424), (28, 11458.851327251406), (58, 11285.660039745093), (52, 9411.779021114877), (99, 8750.976422526863), (109, 8732.699027705667), (7, 7861.161539602887), (56, 7482.1527136773875), (97, 7154.437041469604), (107, 7031.061134591773), (92, 6910.779436233808), (83, 5697.808065142682), (30, 5471.310001082484), (104, 5121.405875795372), (103, 4351.514986769166), (32, 4272.03349193065), (73, 4098.0702731451), (70, 3747.073892048417), (62, 3542.8668335435054), (66, 3542.8668335435054), (101, 3361.146378313236), (106, 3206.3244122401047), (23, 2613.0196655522814), (86, 2117.0193326821072), (74, 1562.8000920812144), (84, 1151.8648396134226), (19, 1058.167554145829), (93, 871.4945830126198), (10, 126.51286473659457), (16, 110.32012645183848), (4, 100.64626415737906), (6, 85.69835840818901), (11, 70.94717621447421), (14, 70.59409401918853), (22, 52.88303857583266), (18, 36.125962265740355), (12, 28.069942734609306), (25, 21.81588961342974), (35, 13.124362415782132), (91, 9.328689466113795), (27, 8.061345363278116), (51, 7.238090541651619), (63, 4.942335314408574), (67, 4.942335314408574), (88, 4.635848218646485), (96, 4.530510770648043), (79, 3.7086860019749186), (61, 3.531878020210372), (65, 3.531878020210372), (33, 3.4982401827828893), (111, 3.2121037405473403), (8, 2.5609452577884335), (46, 1.3350510777332283), (44, 0.9272583357646351), (110, 0.8703888271126088), (94, 0.8545070567788962), (85, 0.7931602461015332), (108, 0.6956374579719711), (98, 0.527754897099578), (29, 0.5209097435759129), (31, 0.38330086716500816), (77, 0.32663137049779156), (53, 0.3104913050954068), (41, 0.29904072331903486), (100, 0.29632792775415506), (39, 0.28419617267887753), (45, 0.25804874203552836), (20, 0.2230798113034182), (72, 0.20564857734629005), (43, 0.19198237894773024), (55, 0.16116193049232314), (102, 0.15712233571886647), (75, 0.1323391527764859), (69, 0.11698205770522822), (105, 0.10570137655491253), (48, 0.06590318461074862), (2, 0.058794403557051025), (57, 0.04345734831139581), (40, 0.042920628236720416), (37, 0.03025264219220344), (38, 0.028924360773287548), (82, 0.028736739190419983), (59, 0.010809364356450583), (42, 0.006754852455265697), (47, 0.005775089522201193), (49, 0.00043948456695615083)]\n"
     ]
    }
   ],
   "source": [
    "#Find the maximum index value \n",
    "col_val = list(enumerate(fit.scores_))\n",
    "\n",
    "from operator import itemgetter\n",
    "sorted_col_val = sorted(col_val, key=itemgetter(1), reverse=True)\n",
    "print(sorted_col_val)"
   ]
  },
  {
   "cell_type": "code",
   "execution_count": 39,
   "metadata": {},
   "outputs": [],
   "source": [
    "from sklearn.cluster import KMeans\n",
    "wcss=[]\n",
    "\n",
    "#we always assume the max number of cluster would be 10\n",
    "#you can judge the number of clusters by doing averaging\n",
    "###Static code to get max no of clusters\n",
    "#katherine you need to change the X here to whatever features you want\n",
    "for i in range(1,10):\n",
    "    kmeans = KMeans(n_clusters= i, init='k-means++', random_state=0)\n",
    "    kmeans.fit(X)\n",
    "    wcss.append(kmeans.inertia_)"
   ]
  },
  {
   "cell_type": "code",
   "execution_count": 40,
   "metadata": {},
   "outputs": [
    {
     "data": {
      "image/png": "[encoded data removed]",
      "text/plain": [
       "<Figure size 432x288 with 1 Axes>"
      ]
     },
     "metadata": {},
     "output_type": "display_data"
    }
   ],
   "source": [
    "plt.plot(range(1,10), wcss)\n",
    "plt.title('The Elbow Method')\n",
    "plt.xlabel('no of clusters')\n",
    "plt.ylabel('wcss')\n",
    "plt.show()"
   ]
  },
  {
   "cell_type": "code",
   "execution_count": 41,
   "metadata": {},
   "outputs": [
    {
     "data": {
      "text/plain": [
       "<matplotlib.collections.PathCollection at 0x28f2d299438>"
      ]
     },
     "execution_count": 41,
     "metadata": {},
     "output_type": "execute_result"
    },
    {
     "data": {
      "image/png": "[encoded data removed]",
      "text/plain": [
       "<Figure size 432x288 with 1 Axes>"
      ]
     },
     "metadata": {},
     "output_type": "display_data"
    }
   ],
   "source": [
    "plt.scatter(X[:,0],X[:,1],c=kmeans.labels_, cmap='rainbow') "
   ]
  },
  {
   "cell_type": "code",
   "execution_count": 13,
   "metadata": {},
   "outputs": [],
   "source": [
    "kmeansmodel = KMeans(n_clusters= 2, init='k-means++', random_state=0)\n",
    "y_kmeans= kmeansmodel.fit_predict(X)"
   ]
  },
  {
   "cell_type": "code",
   "execution_count": null,
   "metadata": {},
   "outputs": [],
   "source": [
    "plt.scatter(X[y_kmeans == 0, 0], X[y_kmeans == 0, 1], s = 100, c = 'red', label = 'Cluster 1')\n",
    "plt.scatter(X[y_kmeans == 1, 0], X[y_kmeans == 1, 1], s = 100, c = 'blue', label = 'Cluster 2')\n",
    "plt.scatter(X[y_kmeans == 2, 0], X[y_kmeans == 2, 1], s = 100, c = 'green', label = 'Cluster 3')"
   ]
  },
  {
   "cell_type": "code",
   "execution_count": 20,
   "metadata": {},
   "outputs": [],
   "source": [
    "from sklearn.model_selection import train_test_split, cross_val_predict\n",
    "\n",
    "X_train, X_test, y_train, y_test = train_test_split(X, Y, test_size=0.33)"
   ]
  },
  {
   "cell_type": "code",
   "execution_count": 24,
   "metadata": {},
   "outputs": [
    {
     "name": "stdout",
     "output_type": "stream",
     "text": [
      "Scikit-Learn's K Nearest Neighbors Classifier's prediction accuracy is: 80.32\n",
      "Time consumed for training: 0.133 seconds\n",
      "Time consumed for prediction: 0.18826 seconds\n"
     ]
    }
   ],
   "source": [
    "knn = KNeighborsClassifier()\n",
    "training_start = time.perf_counter()\n",
    "knn.fit(X_train, y_train)\n",
    "training_end = time.perf_counter()\n",
    "prediction_start = time.perf_counter()\n",
    "preds = knn.predict(X_test)\n",
    "prediction_end = time.perf_counter()\n",
    "acc_knn = (preds == y_test).sum().astype(float) / len(preds)*100\n",
    "knn_train_time = training_end-training_start\n",
    "knn_prediction_time = prediction_end-prediction_start\n",
    "print(\"Scikit-Learn's K Nearest Neighbors Classifier's prediction accuracy is: %3.2f\" % (acc_knn))\n",
    "print(\"Time consumed for training: %4.3f seconds\" % (knn_train_time))\n",
    "print(\"Time consumed for prediction: %6.5f seconds\" % (knn_prediction_time))"
   ]
  },
  {
   "cell_type": "code",
   "execution_count": 25,
   "metadata": {},
   "outputs": [
    {
     "name": "stdout",
     "output_type": "stream",
     "text": [
      "Scores: [0.8947 0.885  0.8929 0.8929 0.8839 0.8482 0.9107 0.8661 0.9196 0.875 ]\n",
      "Mean: 0.8868978308603367\n",
      "Standard Deviation: 0.019637309927525475\n"
     ]
    }
   ],
   "source": [
    "from sklearn.model_selection import cross_val_score\n",
    "rfc_cv = RandomForestClassifier(n_estimators=100)\n",
    "scores = cross_val_score(rfc_cv, X_train, y_train, cv=10, scoring = \"accuracy\")\n",
    "print(\"Scores:\", scores)\n",
    "print(\"Mean:\", scores.mean())\n",
    "print(\"Standard Deviation:\", scores.std())"
   ]
  }
 ],
 "metadata": {
  "kernelspec": {
   "display_name": "Python 3",
   "language": "python",
   "name": "python3"
  },
  "language_info": {
   "codemirror_mode": {
    "name": "ipython",
    "version": 3
   },
   "file_extension": ".py",
   "mimetype": "text/x-python",
   "name": "python",
   "nbconvert_exporter": "python",
   "pygments_lexer": "ipython3",
   "version": "3.7.6"
  }
 },
 "nbformat": 4,
 "nbformat_minor": 2
}
